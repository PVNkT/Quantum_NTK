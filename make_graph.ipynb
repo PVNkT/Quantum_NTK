{
 "cells": [
  {
   "cell_type": "code",
   "execution_count": 2,
   "metadata": {},
   "outputs": [
    {
     "name": "stdout",
     "output_type": "stream",
     "text": [
      "Requirement already satisfied: pandas in /usr/local/lib/python3.8/dist-packages (1.5.3)\n",
      "Requirement already satisfied: numpy>=1.20.3 in /usr/local/lib/python3.8/dist-packages (from pandas) (1.23.5)\n",
      "Requirement already satisfied: python-dateutil>=2.8.1 in /usr/local/lib/python3.8/dist-packages (from pandas) (2.8.2)\n",
      "Requirement already satisfied: pytz>=2020.1 in /usr/local/lib/python3.8/dist-packages (from pandas) (2022.7.1)\n",
      "Requirement already satisfied: six>=1.5 in /usr/lib/python3/dist-packages (from python-dateutil>=2.8.1->pandas) (1.14.0)\n",
      "\u001b[33mWARNING: Running pip as the 'root' user can result in broken permissions and conflicting behaviour with the system package manager. It is recommended to use a virtual environment instead: https://pip.pypa.io/warnings/venv\u001b[0m\u001b[33m\n",
      "\u001b[0m"
     ]
    }
   ],
   "source": [
    "!pip install pandas"
   ]
  },
  {
   "cell_type": "code",
   "execution_count": 3,
   "metadata": {},
   "outputs": [],
   "source": [
    "import os\n",
    "import csv\n",
    "import re\n",
    "import pandas as pd\n",
    "import numpy as np\n",
    "import matplotlib.pyplot as plt\n",
    "from contextlib import contextmanager"
   ]
  },
  {
   "cell_type": "code",
   "execution_count": 4,
   "metadata": {},
   "outputs": [],
   "source": [
    "def get_files(method:str):\n",
    "    path = f'/workspace/accuracy/{method}/'\n",
    "    file_list = os.listdir(path)\n",
    "    file_list_csv = [file for file in file_list if file.endswith('.csv')]\n",
    "    seeds = []\n",
    "    pattern = f'{method}_sparse_output_([0-9]+).csv'\n",
    "    for file in file_list_csv:\n",
    "        result = re.search(pattern, file)\n",
    "        seeds.append(result.group(1))\n",
    "    return path, file_list_csv, seeds"
   ]
  },
  {
   "cell_type": "code",
   "execution_count": 5,
   "metadata": {},
   "outputs": [],
   "source": [
    "def data_sorting(file_str):\n",
    "    data = pd.read_csv(file_str)\n",
    "    data_sorted = data.sort_values(by=\"sparsity\").drop_duplicates(subset=['sparsity'], keep = 'first')\n",
    "    return data_sorted"
   ]
  },
  {
   "cell_type": "code",
   "execution_count": 6,
   "metadata": {},
   "outputs": [],
   "source": [
    "def save_graphs(method:str):\n",
    "    path, file_list, seeds = get_files(method)\n",
    "    for i in range(len(file_list)):\n",
    "        data = data_sorting(path+file_list[i])\n",
    "        sparsity = np.array(data[\"sparsity\"])\n",
    "        accuracy = np.array(data[\"accuracy\"])\n",
    "        plt.plot(sparsity,accuracy)\n",
    "        plt.xlabel(\"sparsity\")\n",
    "        plt.ylabel(\"accuracy\")\n",
    "        plt.title(f\"{method}_{seeds[i]}\")\n",
    "        plt.savefig(f\"{path}{method}_{seeds[i]}.png\")\n",
    "        plt.clf()"
   ]
  },
  {
   "cell_type": "code",
   "execution_count": 12,
   "metadata": {},
   "outputs": [],
   "source": [
    "def box_graphs(method:str):\n",
    "    path, file_list, seeds = get_files(method)\n",
    "    sorted_datas = []\n",
    "    total_results = []\n",
    "    for i in range(len(file_list)):\n",
    "        sorted_datas.append(data_sorting(path+file_list[i]))\n",
    "    results = pd.concat(sorted_datas)\n",
    "    sparsitys = list(results['sparsity'].drop_duplicates())\n",
    "\n",
    "    for i in list(sparsitys):\n",
    "        total_results.append(list(results['accuracy'][results['sparsity'] == i]))\n",
    "    plt.boxplot(total_results)\n",
    "    plt.xticks(range(1,len(sparsitys)+1), sparsitys)\n",
    "    plt.savefig(f\"{path}{method}.png\")\n",
    "    plt.clf()"
   ]
  },
  {
   "cell_type": "code",
   "execution_count": 13,
   "metadata": {},
   "outputs": [],
   "source": [
    "box_graphs('block')\n",
    "box_graphs('random')\n",
    "box_graphs('origin')\n",
    "save_graphs('block')\n",
    "save_graphs('random')\n",
    "save_graphs('origin')"
   ]
  },
  {
   "cell_type": "code",
   "execution_count": null,
   "metadata": {},
   "outputs": [],
   "source": []
  }
 ],
 "metadata": {
  "kernelspec": {
   "display_name": "Python 3",
   "language": "python",
   "name": "python3"
  },
  "language_info": {
   "codemirror_mode": {
    "name": "ipython",
    "version": 3
   },
   "file_extension": ".py",
   "mimetype": "text/x-python",
   "name": "python",
   "nbconvert_exporter": "python",
   "pygments_lexer": "ipython3",
   "version": "3.8.10"
  },
  "orig_nbformat": 4,
  "vscode": {
   "interpreter": {
    "hash": "916dbcbb3f70747c44a77c7bcd40155683ae19c65e1c03b4aa3499c5328201f1"
   }
  }
 },
 "nbformat": 4,
 "nbformat_minor": 2
}
