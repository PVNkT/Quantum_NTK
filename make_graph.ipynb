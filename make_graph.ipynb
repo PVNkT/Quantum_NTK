{
 "cells": [
  {
   "cell_type": "code",
   "execution_count": 2,
   "metadata": {},
   "outputs": [
    {
     "name": "stdout",
     "output_type": "stream",
     "text": [
      "Requirement already satisfied: pandas in /usr/local/lib/python3.8/dist-packages (1.5.3)\n",
      "Requirement already satisfied: numpy>=1.20.3 in /usr/local/lib/python3.8/dist-packages (from pandas) (1.23.5)\n",
      "Requirement already satisfied: python-dateutil>=2.8.1 in /usr/local/lib/python3.8/dist-packages (from pandas) (2.8.2)\n",
      "Requirement already satisfied: pytz>=2020.1 in /usr/local/lib/python3.8/dist-packages (from pandas) (2022.7.1)\n",
      "Requirement already satisfied: six>=1.5 in /usr/lib/python3/dist-packages (from python-dateutil>=2.8.1->pandas) (1.14.0)\n",
      "\u001b[33mWARNING: Running pip as the 'root' user can result in broken permissions and conflicting behaviour with the system package manager. It is recommended to use a virtual environment instead: https://pip.pypa.io/warnings/venv\u001b[0m\u001b[33m\n",
      "\u001b[0m"
     ]
    }
   ],
   "source": [
    "!pip install pandas"
   ]
  },
  {
   "cell_type": "code",
   "execution_count": 33,
   "metadata": {},
   "outputs": [],
   "source": [
    "import os\n",
    "import csv\n",
    "import re\n",
    "import pandas as pd\n",
    "import numpy as np\n",
    "import matplotlib.pyplot as plt\n",
    "from contextlib import contextmanager"
   ]
  },
  {
   "cell_type": "code",
   "execution_count": 106,
   "metadata": {},
   "outputs": [],
   "source": [
    "def get_files(method:str):\n",
    "    path = f'/workspace/accuracy/{method}/'\n",
    "    file_list = os.listdir(path+'csv_files')\n",
    "    file_list_csv = [file for file in file_list if file.endswith('.csv')]\n",
    "    seeds = []\n",
    "    pattern = f'{method}_sparse_output_([0-9]+).csv'\n",
    "    for file in file_list_csv:\n",
    "        result = re.search(pattern, file)\n",
    "        seeds.append(result.group(1))\n",
    "    return path, file_list_csv, seeds"
   ]
  },
  {
   "cell_type": "code",
   "execution_count": 107,
   "metadata": {},
   "outputs": [],
   "source": [
    "def data_sorting(file_str):\n",
    "    data = pd.read_csv(file_str)\n",
    "    data_sorted = data.sort_values(by=\"sparsity\").drop_duplicates(subset=['sparsity'], keep = 'first')\n",
    "    return data_sorted"
   ]
  },
  {
   "cell_type": "code",
   "execution_count": 108,
   "metadata": {},
   "outputs": [],
   "source": [
    "@contextmanager\n",
    "def savefig(path_str,filename):\n",
    "    dir_name = os.path.dirname(path_str)\n",
    "    if not os.path.isdir(dir_name):\n",
    "        os.makedirs(dir_name)\n",
    "    yield plt.savefig(path_str+filename)"
   ]
  },
  {
   "cell_type": "code",
   "execution_count": 1,
   "metadata": {},
   "outputs": [],
   "source": [
    "def save_graphs(method:str):\n",
    "    path, file_list, seeds = get_files(method)\n",
    "    for i in range(len(file_list)):\n",
    "        data = data_sorting(path+'csv_files/'+file_list[i])\n",
    "        sparsity = np.array(data[\"sparsity\"])\n",
    "        accuracy = np.array(data[\"accuracy\"])\n",
    "        plt.plot(sparsity,accuracy)\n",
    "        plt.xlabel(\"insparsity\")\n",
    "        plt.ylabel(\"accuracy\")\n",
    "        plt.title(f\"{method}_{seeds[i]}\")\n",
    "        with savefig(path+'eachfig/', f\"{method}_{seeds[i]}.png\") as save:\n",
    "            save\n",
    "        plt.clf()"
   ]
  },
  {
   "cell_type": "code",
   "execution_count": 110,
   "metadata": {},
   "outputs": [],
   "source": [
    "def box_graphs(method:str):\n",
    "    path, file_list, seeds = get_files(method)\n",
    "    sorted_datas = []\n",
    "    total_results = []\n",
    "    for i in range(len(file_list)):\n",
    "        sorted_datas.append(data_sorting(path+'csv_files/'+file_list[i]))\n",
    "    results = pd.concat(sorted_datas)\n",
    "    sparsitys = list(results['sparsity'].drop_duplicates())\n",
    "\n",
    "    for i in list(sparsitys):\n",
    "        total_results.append(list(results['accuracy'][results['sparsity'] == i]))\n",
    "    plt.boxplot(total_results)\n",
    "    plt.xticks(range(1,len(sparsitys)+1), sparsitys)\n",
    "    plt.title(f'boxplot of {method}_sampling{len(file_list)}')\n",
    "    plt.xlabel(\"insparsity\")\n",
    "    plt.ylabel('accuracy')\n",
    "    with savefig(path+'meanfig/', f\"{method}.png\") as save:\n",
    "        save\n",
    "    plt.clf()"
   ]
  },
  {
   "cell_type": "code",
   "execution_count": 111,
   "metadata": {},
   "outputs": [],
   "source": [
    "def mean_graphs(method:str):\n",
    "    path, file_list, seeds = get_files(method)\n",
    "    sorted_datas = []\n",
    "    total_results = []\n",
    "    for i in range(len(file_list)):\n",
    "        sorted_datas.append(data_sorting(path+'csv_files/'+file_list[i]))\n",
    "    results = pd.concat(sorted_datas)\n",
    "    sparsitys = list(results['sparsity'].drop_duplicates())\n",
    "\n",
    "    for i in list(sparsitys):\n",
    "        total_results.append(np.array(results['accuracy'][results['sparsity'] == i]).mean())\n",
    "    plt.plot(sparsitys, np.array(total_results))\n",
    "    plt.title(f'meanplot of {method}_sampling{len(file_list)}')\n",
    "    plt.xlabel(\"insparsity\")\n",
    "    plt.ylabel('accuracy')\n",
    "    with savefig(path+'meanfig/', f\"{method}_mean.png\") as save:\n",
    "        save\n",
    "    plt.clf()"
   ]
  },
  {
   "cell_type": "code",
   "execution_count": 112,
   "metadata": {},
   "outputs": [],
   "source": [
    "def log_graphs(method:str):\n",
    "    path, file_list, seeds = get_files(method)\n",
    "    sorted_datas = []\n",
    "    total_results = []\n",
    "    for i in range(len(file_list)):\n",
    "        sorted_datas.append(data_sorting(path+'csv_files/'+file_list[i]))\n",
    "    results = pd.concat(sorted_datas)\n",
    "    sparsitys = list(results['sparsity'].drop_duplicates())\n",
    "\n",
    "    for i in list(sparsitys):\n",
    "        total_results.append(np.array(results['accuracy'][results['sparsity'] == i]).mean())\n",
    "    plt.plot(sparsitys, np.array(total_results))\n",
    "    plt.xscale('log')\n",
    "    plt.yscale('log')\n",
    "    plt.title(f'logx, logy plot of {method}_sampling{len(file_list)}')\n",
    "    plt.xlabel(\"insparsity\")\n",
    "    plt.ylabel('accuracy')\n",
    "    with savefig(path+'meanfig/', f\"{method}_log.png\") as save:\n",
    "        save\n",
    "    plt.clf()"
   ]
  },
  {
   "cell_type": "code",
   "execution_count": 113,
   "metadata": {},
   "outputs": [],
   "source": [
    "def logx_graphs(method:str):\n",
    "    path, file_list, seeds = get_files(method)\n",
    "    sorted_datas = []\n",
    "    total_results = []\n",
    "    for i in range(len(file_list)):\n",
    "        sorted_datas.append(data_sorting(path+'csv_files/'+file_list[i]))\n",
    "    results = pd.concat(sorted_datas)\n",
    "    sparsitys = list(results['sparsity'].drop_duplicates())\n",
    "\n",
    "    for i in list(sparsitys):\n",
    "        total_results.append(np.array(results['accuracy'][results['sparsity'] == i]).mean())\n",
    "    plt.plot(sparsitys, np.array(total_results))\n",
    "    plt.xscale('log')\n",
    "    plt.title(f'logx plot of {method}_sampling{len(file_list)}')\n",
    "    plt.xlabel(\"insparsity\")\n",
    "    plt.ylabel('accuracy')\n",
    "    with savefig(path+'meanfig/', f\"{method}_logx.png\") as save:\n",
    "        save\n",
    "    plt.clf()"
   ]
  },
  {
   "cell_type": "code",
   "execution_count": 114,
   "metadata": {},
   "outputs": [],
   "source": [
    "def logy_graphs(method:str):\n",
    "    path, file_list, seeds = get_files(method)\n",
    "    sorted_datas = []\n",
    "    total_results = []\n",
    "    for i in range(len(file_list)):\n",
    "        sorted_datas.append(data_sorting(path+'csv_files/'+file_list[i]))\n",
    "    results = pd.concat(sorted_datas)\n",
    "    sparsitys = list(results['sparsity'].drop_duplicates())\n",
    "\n",
    "    for i in list(sparsitys):\n",
    "        total_results.append(np.array(results['accuracy'][results['sparsity'] == i]).mean())\n",
    "    plt.plot(sparsitys, np.array(total_results))\n",
    "    plt.yscale('log')\n",
    "    plt.title(f'logy plot of {method}_sampling{len(file_list)}')\n",
    "    plt.xlabel(\"insparsity\")\n",
    "    plt.ylabel('accuracy')\n",
    "    with savefig(path+'meanfig/', f\"{method}_logy.png\") as save:\n",
    "        save\n",
    "    plt.clf()"
   ]
  },
  {
   "cell_type": "code",
   "execution_count": 115,
   "metadata": {},
   "outputs": [],
   "source": [
    "method_list=['block', 'random', 'origin', 'diagonal']\n",
    "def draw_all_graphs(graph_fun, method_list=method_list):\n",
    "    for method_str in method_list:\n",
    "        graph_fun(method_str)\n",
    "    return None"
   ]
  },
  {
   "cell_type": "code",
   "execution_count": 116,
   "metadata": {},
   "outputs": [
    {
     "ename": "FileNotFoundError",
     "evalue": "[Errno 2] No such file or directory: '/accuracy/block/csv_files/'",
     "output_type": "error",
     "traceback": [
      "\u001b[0;31m---------------------------------------------------------------------------\u001b[0m",
      "\u001b[0;31mFileNotFoundError\u001b[0m                         Traceback (most recent call last)",
      "Cell \u001b[0;32mIn[116], line 1\u001b[0m\n\u001b[0;32m----> 1\u001b[0m draw_all_graphs(box_graphs)\n",
      "Cell \u001b[0;32mIn[115], line 4\u001b[0m, in \u001b[0;36mdraw_all_graphs\u001b[0;34m(graph_fun, method_list)\u001b[0m\n\u001b[1;32m      2\u001b[0m \u001b[39mdef\u001b[39;00m \u001b[39mdraw_all_graphs\u001b[39m(graph_fun, method_list\u001b[39m=\u001b[39mmethod_list):\n\u001b[1;32m      3\u001b[0m     \u001b[39mfor\u001b[39;00m method_str \u001b[39min\u001b[39;00m method_list:\n\u001b[0;32m----> 4\u001b[0m         graph_fun(method_str)\n\u001b[1;32m      5\u001b[0m     \u001b[39mreturn\u001b[39;00m \u001b[39mNone\u001b[39;00m\n",
      "Cell \u001b[0;32mIn[110], line 2\u001b[0m, in \u001b[0;36mbox_graphs\u001b[0;34m(method)\u001b[0m\n\u001b[1;32m      1\u001b[0m \u001b[39mdef\u001b[39;00m \u001b[39mbox_graphs\u001b[39m(method:\u001b[39mstr\u001b[39m):\n\u001b[0;32m----> 2\u001b[0m     path, file_list, seeds \u001b[39m=\u001b[39m get_files(method)\n\u001b[1;32m      3\u001b[0m     sorted_datas \u001b[39m=\u001b[39m []\n\u001b[1;32m      4\u001b[0m     total_results \u001b[39m=\u001b[39m []\n",
      "Cell \u001b[0;32mIn[106], line 3\u001b[0m, in \u001b[0;36mget_files\u001b[0;34m(method)\u001b[0m\n\u001b[1;32m      1\u001b[0m \u001b[39mdef\u001b[39;00m \u001b[39mget_files\u001b[39m(method:\u001b[39mstr\u001b[39m):\n\u001b[1;32m      2\u001b[0m     path \u001b[39m=\u001b[39m \u001b[39mf\u001b[39m\u001b[39m'\u001b[39m\u001b[39m/accuracy/\u001b[39m\u001b[39m{\u001b[39;00mmethod\u001b[39m}\u001b[39;00m\u001b[39m/\u001b[39m\u001b[39m'\u001b[39m\n\u001b[0;32m----> 3\u001b[0m     file_list \u001b[39m=\u001b[39m os\u001b[39m.\u001b[39;49mlistdir(path\u001b[39m+\u001b[39;49m\u001b[39m'\u001b[39;49m\u001b[39mcsv_files/\u001b[39;49m\u001b[39m'\u001b[39;49m)\n\u001b[1;32m      4\u001b[0m     file_list_csv \u001b[39m=\u001b[39m [file \u001b[39mfor\u001b[39;00m file \u001b[39min\u001b[39;00m file_list \u001b[39mif\u001b[39;00m file\u001b[39m.\u001b[39mendswith(\u001b[39m'\u001b[39m\u001b[39m.csv\u001b[39m\u001b[39m'\u001b[39m)]\n\u001b[1;32m      5\u001b[0m     seeds \u001b[39m=\u001b[39m []\n",
      "\u001b[0;31mFileNotFoundError\u001b[0m: [Errno 2] No such file or directory: '/accuracy/block/csv_files/'"
     ]
    }
   ],
   "source": [
    "draw_all_graphs(box_graphs)"
   ]
  },
  {
   "cell_type": "code",
   "execution_count": 101,
   "metadata": {},
   "outputs": [],
   "source": [
    "draw_all_graphs(save_graphs)"
   ]
  },
  {
   "cell_type": "code",
   "execution_count": 102,
   "metadata": {},
   "outputs": [],
   "source": [
    "draw_all_graphs(mean_graphs)"
   ]
  },
  {
   "cell_type": "code",
   "execution_count": 103,
   "metadata": {},
   "outputs": [],
   "source": [
    "draw_all_graphs(log_graphs)"
   ]
  },
  {
   "cell_type": "code",
   "execution_count": 104,
   "metadata": {},
   "outputs": [],
   "source": [
    "draw_all_graphs(logx_graphs)"
   ]
  },
  {
   "cell_type": "code",
   "execution_count": 105,
   "metadata": {},
   "outputs": [],
   "source": [
    "draw_all_graphs(logy_graphs)"
   ]
  },
  {
   "cell_type": "code",
   "execution_count": null,
   "metadata": {},
   "outputs": [],
   "source": []
  }
 ],
 "metadata": {
  "kernelspec": {
   "display_name": "Python 3",
   "language": "python",
   "name": "python3"
  },
  "language_info": {
   "codemirror_mode": {
    "name": "ipython",
    "version": 3
   },
   "file_extension": ".py",
   "mimetype": "text/x-python",
   "name": "python",
   "nbconvert_exporter": "python",
   "pygments_lexer": "ipython3",
   "version": "3.8.10"
  },
  "orig_nbformat": 4,
  "vscode": {
   "interpreter": {
    "hash": "916dbcbb3f70747c44a77c7bcd40155683ae19c65e1c03b4aa3499c5328201f1"
   }
  }
 },
 "nbformat": 4,
 "nbformat_minor": 2
}
