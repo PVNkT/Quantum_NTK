{
 "cells": [
  {
   "cell_type": "code",
   "execution_count": 1,
   "metadata": {},
   "outputs": [
    {
     "name": "stdout",
     "output_type": "stream",
     "text": [
      "Collecting pandas\n",
      "  Downloading pandas-1.5.3-cp38-cp38-manylinux_2_17_x86_64.manylinux2014_x86_64.whl (12.2 MB)\n",
      "\u001b[2K     \u001b[90m━━━━━━━━━━━━━━━━━━━━━━━━━━━━━━━━━━━━━━━━\u001b[0m \u001b[32m12.2/12.2 MB\u001b[0m \u001b[31m10.0 MB/s\u001b[0m eta \u001b[36m0:00:00\u001b[0m00:01\u001b[0m00:01\u001b[0m\n",
      "\u001b[?25hRequirement already satisfied: python-dateutil>=2.8.1 in /usr/local/lib/python3.8/dist-packages (from pandas) (2.8.2)\n",
      "Collecting pytz>=2020.1\n",
      "  Downloading pytz-2022.7.1-py2.py3-none-any.whl (499 kB)\n",
      "\u001b[2K     \u001b[90m━━━━━━━━━━━━━━━━━━━━━━━━━━━━━━━━━━━━━━━\u001b[0m \u001b[32m499.4/499.4 kB\u001b[0m \u001b[31m7.8 MB/s\u001b[0m eta \u001b[36m0:00:00\u001b[0ma \u001b[36m0:00:01\u001b[0m\n",
      "\u001b[?25hRequirement already satisfied: numpy>=1.20.3 in /usr/local/lib/python3.8/dist-packages (from pandas) (1.23.5)\n",
      "Requirement already satisfied: six>=1.5 in /usr/lib/python3/dist-packages (from python-dateutil>=2.8.1->pandas) (1.14.0)\n",
      "Installing collected packages: pytz, pandas\n",
      "Successfully installed pandas-1.5.3 pytz-2022.7.1\n",
      "\u001b[33mWARNING: Running pip as the 'root' user can result in broken permissions and conflicting behaviour with the system package manager. It is recommended to use a virtual environment instead: https://pip.pypa.io/warnings/venv\u001b[0m\u001b[33m\n",
      "\u001b[0m"
     ]
    }
   ],
   "source": [
    "!pip install pandas"
   ]
  },
  {
   "cell_type": "code",
   "execution_count": 167,
   "metadata": {},
   "outputs": [],
   "source": [
    "import os\n",
    "import csv\n",
    "import re\n",
    "import pandas as pd\n",
    "import numpy as np\n",
    "import matplotlib.pyplot as plt\n",
    "from contextlib import contextmanager\n",
    "from utils import npy_save"
   ]
  },
  {
   "cell_type": "code",
   "execution_count": 168,
   "metadata": {},
   "outputs": [],
   "source": [
    "def get_files(method:str, selection):\n",
    "    path = f'/workspace/accuracy/{selection}/{method}/'\n",
    "    file_list = os.listdir(path+'csv_files')\n",
    "    file_list_csv = [file for file in file_list if file.endswith('.csv')]\n",
    "    seeds = []\n",
    "    pattern = f'{method}_sparse_output_([0-9]+).csv'\n",
    "    for file in file_list_csv:\n",
    "        result = re.search(pattern, file)\n",
    "        seeds.append(result.group(1))\n",
    "    return path, file_list_csv, seeds"
   ]
  },
  {
   "cell_type": "code",
   "execution_count": 169,
   "metadata": {},
   "outputs": [],
   "source": [
    "def data_sorting(file_str):\n",
    "    data = pd.read_csv(file_str)\n",
    "    data_sorted = data.sort_values(by=\"sparsity\").drop_duplicates(subset=['sparsity'], keep = 'first')\n",
    "    return data_sorted"
   ]
  },
  {
   "cell_type": "code",
   "execution_count": 170,
   "metadata": {},
   "outputs": [],
   "source": [
    "@contextmanager\n",
    "def savefig(path_str,filename):\n",
    "    dir_name = os.path.dirname(path_str)\n",
    "    if not os.path.isdir(dir_name):\n",
    "        os.makedirs(dir_name)\n",
    "    yield plt.savefig(path_str+filename)"
   ]
  },
  {
   "cell_type": "code",
   "execution_count": 171,
   "metadata": {},
   "outputs": [],
   "source": [
    "def save_means(method:str, selection:str = '[1, 0]'):\n",
    "    path, file_list, seeds = get_files(method, selection)\n",
    "    sorted_datas = []\n",
    "    total_results = []\n",
    "    for i in range(len(file_list)):\n",
    "        sorted_datas.append(data_sorting(path+'csv_files/'+file_list[i]))\n",
    "    results = pd.concat(sorted_datas)\n",
    "    sparsitys = results['sparsity'].drop_duplicates()\n",
    "\n",
    "    for i in sparsitys:\n",
    "        total_results.append(np.array(results['accuracy'][results['sparsity'] == i]).mean())\n",
    "\n",
    "    with npy_save(path + 'mean_result.npy', np.array(total_results)) as npy:\n",
    "        npy\n",
    "    with npy_save(path + 'sparsity.npy', np.array(sparsitys)) as npy:\n",
    "        npy\n",
    "    return path, file_list, seeds"
   ]
  },
  {
   "cell_type": "code",
   "execution_count": 172,
   "metadata": {},
   "outputs": [],
   "source": [
    "def draw_diff_select(method:str, selections:list):\n",
    "    means = []\n",
    "    for selection in selections:\n",
    "        mean = np.load(f'/workspace/accuracy/{selection}/{method}/mean_result.npy', allow_pickle=True)\n",
    "        sparsity = np.load(f'/workspace/accuracy/{selection}/{method}/sparsity.npy', allow_pickle=True)\n",
    "        plt.plot(sparsity, mean, label=str(selection))\n",
    "    plt.title(f\"{method} Insparsity-Accurancy Graph\")\n",
    "    plt.xlabel(\"Insparsity\")\n",
    "    plt.ylabel(\"accuracy\")\n",
    "    plt.legend()\n",
    "    plt.savefig(f'/workspace/accuracy/diff_select_graph_{method}.png')\n",
    "    plt.clf()"
   ]
  },
  {
   "cell_type": "code",
   "execution_count": 173,
   "metadata": {},
   "outputs": [],
   "source": [
    "def save_graphs(method:str, selection):\n",
    "    path, file_list, seeds = get_files(method, selection=selection)\n",
    "    for i in range(len(file_list)):\n",
    "        data = data_sorting(path+'csv_files/'+file_list[i])\n",
    "        sparsity = np.array(data[\"sparsity\"])\n",
    "        accuracy = np.array(data[\"accuracy\"])\n",
    "        plt.plot(sparsity,accuracy)\n",
    "        plt.xlabel(\"insparsity\")\n",
    "        plt.ylabel(\"accuracy\")\n",
    "        plt.title(f\"{method}_{seeds[i]}\")\n",
    "        with savefig(path+'eachfig/', f\"{method}_{seeds[i]}.png\") as save:\n",
    "            save\n",
    "        plt.clf()"
   ]
  },
  {
   "cell_type": "code",
   "execution_count": 174,
   "metadata": {},
   "outputs": [],
   "source": [
    "def box_graphs(method:str, selection):\n",
    "    path, file_list, seeds = get_files(method, selection)\n",
    "    sorted_datas = []\n",
    "    total_results = []\n",
    "    for i in range(len(file_list)):\n",
    "        sorted_datas.append(data_sorting(path+'csv_files/'+file_list[i]))\n",
    "    results = pd.concat(sorted_datas)\n",
    "    sparsitys = list(results['sparsity'].drop_duplicates())\n",
    "\n",
    "    for i in list(sparsitys):\n",
    "        total_results.append(list(results['accuracy'][results['sparsity'] == i]))\n",
    "\n",
    "    plt.boxplot(total_results)\n",
    "    plt.xticks(range(1,len(sparsitys)+1), sparsitys)\n",
    "    plt.title(f'boxplot of {method}_{selection}_sampling{len(file_list)}')\n",
    "    plt.xlabel(\"insparsity\")\n",
    "    plt.ylabel('accuracy')\n",
    "    with savefig(path+'meanfig/', f\"{method}_{selection}.png\") as save:\n",
    "        save\n",
    "    plt.clf()"
   ]
  },
  {
   "cell_type": "code",
   "execution_count": 175,
   "metadata": {},
   "outputs": [],
   "source": [
    "def mean_graphs(method:str, selection):\n",
    "    path, file_list, seeds = save_means(method, selection)\n",
    "    total_results = np.load(f'/workspace/accuracy/{selection}/{method}/mean_result.npy', allow_pickle=True)\n",
    "    sparsity = np.load(f'/workspace/accuracy/{selection}/{method}/sparsity.npy', allow_pickle=True)\n",
    "    \n",
    "    plt.plot(sparsity, np.array(total_results))\n",
    "    plt.title(f'meanplot of {method}_{selection}_sampling{len(file_list)}')\n",
    "    plt.xlabel(\"insparsity\")\n",
    "    plt.ylabel('accuracy')\n",
    "    with savefig(path+'meanfig/', f\"{method}_{selection}_mean.png\") as save:\n",
    "        save\n",
    "    plt.clf()"
   ]
  },
  {
   "cell_type": "code",
   "execution_count": 176,
   "metadata": {},
   "outputs": [],
   "source": [
    "def log_graphs(method:str, selection):\n",
    "    path, file_list, seeds = save_means(method, selection)\n",
    "    total_results = np.load(f'/workspace/accuracy/{selection}/{method}/mean_result.npy', allow_pickle=True)\n",
    "    sparsity = np.load(f'/workspace/accuracy/{selection}/{method}/sparsity.npy', allow_pickle=True)\n",
    "    \n",
    "    plt.plot(sparsity, np.array(total_results))\n",
    "    plt.xscale('log')\n",
    "    plt.yscale('log')\n",
    "    plt.title(f'logx, logy plot of {method}_{selection}_sampling{len(file_list)}')\n",
    "    plt.xlabel(\"insparsity\")\n",
    "    plt.ylabel('accuracy')\n",
    "    with savefig(path+'meanfig/', f\"{method}_{selection}_log.png\") as save:\n",
    "        save\n",
    "    plt.clf()"
   ]
  },
  {
   "cell_type": "code",
   "execution_count": 177,
   "metadata": {},
   "outputs": [],
   "source": [
    "def logx_graphs(method:str, selection):\n",
    "    path, file_list, seeds = save_means(method, selection)\n",
    "    total_results = np.load(f'/workspace/accuracy/{selection}/{method}/mean_result.npy', allow_pickle=True)\n",
    "    sparsity = np.load(f'/workspace/accuracy/{selection}/{method}/sparsity.npy', allow_pickle=True)\n",
    "    \n",
    "    plt.plot(sparsity, np.array(total_results))\n",
    "    plt.xscale('log')\n",
    "    plt.title(f'logx plot of {method}_{selection}_sampling{len(file_list)}')\n",
    "    plt.xlabel(\"insparsity\")\n",
    "    plt.ylabel('accuracy')\n",
    "    with savefig(path+'meanfig/', f\"{method}_{selection}_logx.png\") as save:\n",
    "        save\n",
    "    plt.clf()"
   ]
  },
  {
   "cell_type": "code",
   "execution_count": 178,
   "metadata": {},
   "outputs": [],
   "source": [
    "def logy_graphs(method:str, selection):\n",
    "    path, file_list, seeds = save_means(method, selection)\n",
    "    total_results = np.load(f'/workspace/accuracy/{selection}/{method}/mean_result.npy', allow_pickle=True)\n",
    "    sparsity = np.load(f'/workspace/accuracy/{selection}/{method}/sparsity.npy', allow_pickle=True)\n",
    "    \n",
    "    plt.plot(sparsity, np.array(total_results))\n",
    "    plt.yscale('log')\n",
    "    plt.title(f'logy plot of {method}_{selection}_sampling{len(file_list)}')\n",
    "    plt.xlabel(\"insparsity\")\n",
    "    plt.ylabel('accuracy')\n",
    "    with savefig(path+'meanfig/', f\"{method}_{selection}_logy.png\") as save:\n",
    "        save\n",
    "    plt.clf()"
   ]
  },
  {
   "cell_type": "code",
   "execution_count": 179,
   "metadata": {},
   "outputs": [],
   "source": [
    "method_list=['block', 'random', 'origin', 'diagonal', 'threshold']\n",
    "selection_list = ['[1, 0]', '[1, 7]', '[5, 9]', '[3, 6]']\n",
    "def draw_all_graphs(graph_fun, selections=selection_list, method_list=method_list):\n",
    "    for selection in selections: \n",
    "        for method_str in method_list:\n",
    "            graph_fun(method_str, selection)\n",
    "    return None"
   ]
  },
  {
   "cell_type": "code",
   "execution_count": 182,
   "metadata": {},
   "outputs": [],
   "source": [
    "draw_all_graphs(box_graphs)"
   ]
  },
  {
   "cell_type": "code",
   "execution_count": 183,
   "metadata": {},
   "outputs": [],
   "source": [
    "draw_all_graphs(save_graphs)"
   ]
  },
  {
   "cell_type": "code",
   "execution_count": null,
   "metadata": {},
   "outputs": [],
   "source": [
    "draw_all_graphs(mean_graphs)"
   ]
  },
  {
   "cell_type": "code",
   "execution_count": null,
   "metadata": {},
   "outputs": [],
   "source": [
    "draw_all_graphs(log_graphs)"
   ]
  },
  {
   "cell_type": "code",
   "execution_count": null,
   "metadata": {},
   "outputs": [],
   "source": [
    "draw_all_graphs(logx_graphs)"
   ]
  },
  {
   "cell_type": "code",
   "execution_count": null,
   "metadata": {},
   "outputs": [],
   "source": [
    "draw_all_graphs(logy_graphs)"
   ]
  },
  {
   "cell_type": "code",
   "execution_count": null,
   "metadata": {},
   "outputs": [],
   "source": [
    "method_list=['origin', 'diagonal', 'block', 'random', 'threshold']\n",
    "selection_list=['[1, 0]','[5, 9]','[1, 7]', '[3, 6]']\n",
    "for selection in selection_list:\n",
    "    for method in method_list:\n",
    "        save_means(method, selection) "
   ]
  },
  {
   "cell_type": "code",
   "execution_count": null,
   "metadata": {},
   "outputs": [],
   "source": [
    "method_list=['origin', 'diagonal', 'block', 'random', 'threshold']\n",
    "selection_list=['[1, 0]','[5, 9]','[1, 7]', '[3, 6]']\n",
    "for method in method_list:\n",
    "    draw_diff_select(method=method, selections=selection_list)"
   ]
  },
  {
   "cell_type": "code",
   "execution_count": 128,
   "metadata": {},
   "outputs": [
    {
     "data": {
      "text/plain": [
       "'\\nfrom utils import csv_append\\n\\nselection_list = [\\'[1, 0]\\', \\'[1, 7]\\', \\'[5, 9]\\', \\'[3, 6]\\']\\nfor selection in selection_list:\\n    path, file_list, seeds = get_files(method=\\'threshold\\', selection=selection)\\n    for i in range(len(file_list)):\\n        data = data_sorting(path+\\'csv_files/\\'+file_list[i])\\n        sparsity = np.array(data[\"sparsity\"])\\n        sparsity = np.ones(sparsity.shape)*(256**2)-sparsity\\n        accuracy = np.array(data[\"accuracy\"])\\n        with csv_append(f\\'/workspace/accuracy/{selection}/threshold/csv_files_changed/threshold_sparse_output_{seeds[i]}.csv\\') as wr:\\n            for j in range(len(sparsity)):\\n                wr.writerow([sparsity[j], accuracy[j]])\\n'"
      ]
     },
     "execution_count": 128,
     "metadata": {},
     "output_type": "execute_result"
    }
   ],
   "source": [
    "\"\"\"\n",
    "from utils import csv_append\n",
    "\n",
    "selection_list = ['[1, 0]', '[1, 7]', '[5, 9]', '[3, 6]']\n",
    "for selection in selection_list:\n",
    "    path, file_list, seeds = get_files(method='threshold', selection=selection)\n",
    "    for i in range(len(file_list)):\n",
    "        data = data_sorting(path+'csv_files/'+file_list[i])\n",
    "        sparsity = np.array(data[\"sparsity\"])\n",
    "        sparsity = np.ones(sparsity.shape)*(256**2)-sparsity\n",
    "        accuracy = np.array(data[\"accuracy\"])\n",
    "        with csv_append(f'/workspace/accuracy/{selection}/threshold/csv_files_changed/threshold_sparse_output_{seeds[i]}.csv') as wr:\n",
    "            for j in range(len(sparsity)):\n",
    "                wr.writerow([sparsity[j], accuracy[j]])\n",
    "\"\"\"\n",
    "        "
   ]
  },
  {
   "cell_type": "code",
   "execution_count": null,
   "metadata": {},
   "outputs": [],
   "source": []
  }
 ],
 "metadata": {
  "kernelspec": {
   "display_name": "Python 3",
   "language": "python",
   "name": "python3"
  },
  "language_info": {
   "codemirror_mode": {
    "name": "ipython",
    "version": 3
   },
   "file_extension": ".py",
   "mimetype": "text/x-python",
   "name": "python",
   "nbconvert_exporter": "python",
   "pygments_lexer": "ipython3",
   "version": "3.8.10"
  },
  "orig_nbformat": 4,
  "vscode": {
   "interpreter": {
    "hash": "916dbcbb3f70747c44a77c7bcd40155683ae19c65e1c03b4aa3499c5328201f1"
   }
  }
 },
 "nbformat": 4,
 "nbformat_minor": 2
}
