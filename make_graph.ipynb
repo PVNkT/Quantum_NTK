{
 "cells": [
  {
   "cell_type": "code",
   "execution_count": 22,
   "metadata": {},
   "outputs": [],
   "source": [
    "import os\n",
    "import csv\n",
    "import re\n",
    "import pandas as pd\n",
    "import numpy as np\n",
    "import matplotlib.pyplot as plt\n",
    "from contextlib import contextmanager"
   ]
  },
  {
   "cell_type": "code",
   "execution_count": 16,
   "metadata": {},
   "outputs": [],
   "source": [
    "def get_files(method:str):\n",
    "    path = f'../workspace/accuracy/{method}/'\n",
    "    file_list = os.listdir(path)\n",
    "    file_list_csv = [file for file in file_list if file.endswith('.csv')]\n",
    "    seeds = []\n",
    "    pattern = f'{method}_sparse_output_([0-9]+).csv'\n",
    "    for file in file_list_csv:\n",
    "        result = re.search(pattern, file)\n",
    "        seeds.append(result.group(1))\n",
    "    return path, file_list_csv, seeds"
   ]
  },
  {
   "cell_type": "code",
   "execution_count": 20,
   "metadata": {},
   "outputs": [],
   "source": [
    "def data_sorting(path, file_str):\n",
    "    data = pd.read_csv(path+file_str)\n",
    "    data_sorted = data.sort_values(by=\"sparsity\").drop_duplicates(subset=['sparsity'], keep = 'first')\n",
    "    return data_sorted"
   ]
  },
  {
   "cell_type": "code",
   "execution_count": 28,
   "metadata": {},
   "outputs": [],
   "source": [
    "def save_graphs(method:str):\n",
    "    path, file_list, seeds = get_files(method)\n",
    "    for i in range(len(file_list)):\n",
    "        data = data_sorting(path, file_list[i])\n",
    "        sparsity = np.array(data[\"sparsity\"])\n",
    "        accuracy = np.array(data[\"accuracy\"])\n",
    "        plt.plot(sparsity,accuracy)\n",
    "        plt.xlabel(\"sparsity\")\n",
    "        plt.ylabel(\"accuracy\")\n",
    "        plt.title(f\"{method}_{seeds[i]}\")\n",
    "        plt.savefig(f\"{path}{method}_{seeds[i]}.png\")\n",
    "        plt.clf()"
   ]
  },
  {
   "cell_type": "code",
   "execution_count": 30,
   "metadata": {},
   "outputs": [],
   "source": [
    "save_graphs('block')"
   ]
  },
  {
   "cell_type": "code",
   "execution_count": 32,
   "metadata": {},
   "outputs": [],
   "source": [
    "save_graphs('random')"
   ]
  },
  {
   "cell_type": "code",
   "execution_count": 35,
   "metadata": {},
   "outputs": [],
   "source": [
    "save_graphs('origin')"
   ]
  },
  {
   "cell_type": "code",
   "execution_count": null,
   "metadata": {},
   "outputs": [],
   "source": []
  }
 ],
 "metadata": {
  "kernelspec": {
   "display_name": "Python 3",
   "language": "python",
   "name": "python3"
  },
  "language_info": {
   "codemirror_mode": {
    "name": "ipython",
    "version": 3
   },
   "file_extension": ".py",
   "mimetype": "text/x-python",
   "name": "python",
   "nbconvert_exporter": "python",
   "pygments_lexer": "ipython3",
   "version": "3.8.10"
  },
  "orig_nbformat": 4,
  "vscode": {
   "interpreter": {
    "hash": "916dbcbb3f70747c44a77c7bcd40155683ae19c65e1c03b4aa3499c5328201f1"
   }
  }
 },
 "nbformat": 4,
 "nbformat_minor": 2
}
