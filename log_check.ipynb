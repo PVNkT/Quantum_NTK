{
 "cells": [
  {
   "cell_type": "code",
   "execution_count": 59,
   "metadata": {},
   "outputs": [],
   "source": [
    "import os\n",
    "\n",
    "def del_empty(file_path):\n",
    "    if (os.path.isfile(file_path) \n",
    "        #and file_path.endswith(\".log\") \n",
    "        and os.path.getsize(file_path) < 1e-10):\n",
    "        os.remove(file_path)\n",
    "    else:\n",
    "        print(f\"Log file {file_path} is not empty or does not exist\")\n",
    "    return None"
   ]
  },
  {
   "cell_type": "code",
   "execution_count": 60,
   "metadata": {},
   "outputs": [],
   "source": [
    "def del_empty_files_in_dir(root_dir, prefix):\n",
    "    files = os.listdir(root_dir)\n",
    "    for file in files:\n",
    "        path = os.path.join(root_dir, file)\n",
    "        del_empty(prefix + path)\n",
    "        if os.path.isdir(path):\n",
    "            del_empty_files_in_dir(path, prefix)\n"
   ]
  },
  {
   "cell_type": "code",
   "execution_count": 61,
   "metadata": {},
   "outputs": [
    {
     "name": "stdout",
     "output_type": "stream",
     "text": [
      "/workspace/log/[1, 0]\n",
      "Log file /workspace/log/[1, 0] is not empty or does not exist\n",
      "/workspace/log/[1, 0]/row\n",
      "Log file /workspace/log/[1, 0]/row is not empty or does not exist\n",
      "/workspace/log/[1, 0]/row/log_30088.log\n",
      "Log file /workspace/log/[1, 0]/row/log_30088.log is not empty or does not exist\n",
      "/workspace/log/[5, 9]\n",
      "Log file /workspace/log/[5, 9] is not empty or does not exist\n",
      "/workspace/log/[5, 9]/diagonal\n",
      "Log file /workspace/log/[5, 9]/diagonal is not empty or does not exist\n",
      "/workspace/log/[5, 9]/diagonal/log_12.log\n"
     ]
    }
   ],
   "source": [
    "log_dir = \"/workspace/log\"\n",
    "del_empty_files_in_dir(log_dir, '')"
   ]
  },
  {
   "cell_type": "code",
   "execution_count": null,
   "metadata": {},
   "outputs": [],
   "source": []
  }
 ],
 "metadata": {
  "kernelspec": {
   "display_name": "Python 3",
   "language": "python",
   "name": "python3"
  },
  "language_info": {
   "codemirror_mode": {
    "name": "ipython",
    "version": 3
   },
   "file_extension": ".py",
   "mimetype": "text/x-python",
   "name": "python",
   "nbconvert_exporter": "python",
   "pygments_lexer": "ipython3",
   "version": "3.8.10"
  },
  "orig_nbformat": 4
 },
 "nbformat": 4,
 "nbformat_minor": 2
}
